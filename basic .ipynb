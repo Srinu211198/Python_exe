{
 "cells": [
  {
   "cell_type": "code",
   "execution_count": 1,
   "metadata": {},
   "outputs": [
    {
     "name": "stdout",
     "output_type": "stream",
     "text": [
      "Enter your 1st number: 3\n"
     ]
    }
   ],
   "source": [
    "x = int(input(\"Enter your 1st number: \"))"
   ]
  },
  {
   "cell_type": "code",
   "execution_count": 2,
   "metadata": {},
   "outputs": [
    {
     "name": "stdout",
     "output_type": "stream",
     "text": [
      "Enter your 2nd number:4\n"
     ]
    }
   ],
   "source": [
    "y = int(input(\"Enter your 2nd number:\"))"
   ]
  },
  {
   "cell_type": "code",
   "execution_count": 3,
   "metadata": {},
   "outputs": [
    {
     "name": "stdout",
     "output_type": "stream",
     "text": [
      "3 4\n"
     ]
    }
   ],
   "source": [
    "print(x,y)"
   ]
  },
  {
   "cell_type": "code",
   "execution_count": 4,
   "metadata": {},
   "outputs": [
    {
     "name": "stdout",
     "output_type": "stream",
     "text": [
      "4 3\n"
     ]
    }
   ],
   "source": [
    "x = x+y;\n",
    "y = x-y;\n",
    "x = x-y;\n",
    "print(x,y)"
   ]
  },
  {
   "cell_type": "markdown",
   "metadata": {},
   "source": [
    "# Reverse order"
   ]
  },
  {
   "cell_type": "code",
   "execution_count": 5,
   "metadata": {},
   "outputs": [
    {
     "name": "stdout",
     "output_type": "stream",
     "text": [
      "Enter your number : 7536\n",
      "6357\n"
     ]
    }
   ],
   "source": [
    "num = int(input(\"Enter your number : \"));\n",
    "r_num=0;\n",
    "while num != 0:\n",
    "    a = num % 10;\n",
    "    num =int(num/10);\n",
    "    r_num = r_num * 10 + a;\n",
    "print(r_num)"
   ]
  },
  {
   "cell_type": "code",
   "execution_count": 3,
   "metadata": {},
   "outputs": [
    {
     "name": "stdout",
     "output_type": "stream",
     "text": [
      "231\n",
      "1\n",
      "23\n"
     ]
    }
   ],
   "source": [
    "#rough wok\n",
    "n = int(input());\n",
    "a=n%10;\n",
    "n=int(n/10);\n",
    "print(a);\n",
    "print(n);\n"
   ]
  },
  {
   "cell_type": "code",
   "execution_count": 9,
   "metadata": {},
   "outputs": [
    {
     "name": "stdout",
     "output_type": "stream",
     "text": [
      "Enter your number:7536\n",
      "6357\n"
     ]
    }
   ],
   "source": [
    "#String Method\n",
    "n = int(input(\"Enter your number:\"))\n",
    "r_n = str(n)[::-1]\n",
    "print(r_n)"
   ]
  },
  {
   "cell_type": "markdown",
   "metadata": {},
   "source": [
    "# Sum of three Digits"
   ]
  },
  {
   "cell_type": "code",
   "execution_count": 13,
   "metadata": {},
   "outputs": [
    {
     "name": "stdout",
     "output_type": "stream",
     "text": [
      "Enter your number : 567\n",
      "18\n"
     ]
    }
   ],
   "source": [
    "n = int(input(\"Enter your number : \"))\n",
    "sum = 0;\n",
    "while n != 0 :\n",
    "    sum = sum + (n%10)\n",
    "    n = int(n/10)\n",
    "print(sum)"
   ]
  },
  {
   "cell_type": "markdown",
   "metadata": {},
   "source": [
    "Check a number is same as reverse "
   ]
  },
  {
   "cell_type": "code",
   "execution_count": 19,
   "metadata": {},
   "outputs": [
    {
     "name": "stdout",
     "output_type": "stream",
     "text": [
      "Enter your number : 123\n",
      "Reverse of given number is : 321\n",
      "the reverse is different from the given number\n"
     ]
    }
   ],
   "source": [
    "n = int(input(\"Enter your number : \"))\n",
    "num =n;\n",
    "r_n = 0;\n",
    "while n != 0:\n",
    "    r_n = r_n*10 + (n%10);\n",
    "    n = int(n/10);\n",
    "print(\"Reverse of given number is :\", r_n);\n",
    "if num == r_n:\n",
    "    print(\"the reverse is same the given number\")\n",
    "else:\n",
    "    print(\"the reverse is different from the given number\")\n",
    "\n"
   ]
  },
  {
   "cell_type": "markdown",
   "metadata": {},
   "source": [
    "# Euclidean Distance b/w two co-ordinates"
   ]
  },
  {
   "cell_type": "code",
   "execution_count": 21,
   "metadata": {},
   "outputs": [
    {
     "name": "stdout",
     "output_type": "stream",
     "text": [
      "x1 : 4\n",
      "y1 : 5\n",
      "x2 : 6\n",
      "y2 : 8\n",
      "Euclidean disance b/w give co ordinnates is :  3.61\n"
     ]
    }
   ],
   "source": [
    "import math\n",
    "x1 = float(input(\"x1 : \"))\n",
    "y1 = float(input(\"y1 : \"))\n",
    "\n",
    "x2 = float(input(\"x2 : \"))\n",
    "y2 = float(input(\"y2 : \"))\n",
    "\n",
    "x=[x1,y1]\n",
    "y=[x2,y2]\n",
    "\n",
    "print(\"Euclidean disance b/w give co ordinnates is : \", round(math.dist(x,y),2))"
   ]
  },
  {
   "cell_type": "markdown",
   "metadata": {},
   "source": [
    "# given no. div by 3 & 6"
   ]
  },
  {
   "cell_type": "code",
   "execution_count": 3,
   "metadata": {},
   "outputs": [
    {
     "name": "stdout",
     "output_type": "stream",
     "text": [
      "Enter the given no. : 12\n",
      "Given no. is div by 3 & 6\n"
     ]
    }
   ],
   "source": [
    "n = int (input (\"Enter the given no. : \"))\n",
    "if (n % 3 == 0) and (n % 6 == 0) :\n",
    "    print(\"Given no. is div by 3 & 6\")\n",
    "else:\n",
    "    print(\"Given no. is not div by 3 & 6\")\n",
    "    "
   ]
  },
  {
   "cell_type": "markdown",
   "metadata": {},
   "source": [
    "# Square of each digit"
   ]
  },
  {
   "cell_type": "code",
   "execution_count": 12,
   "metadata": {},
   "outputs": [
    {
     "name": "stdout",
     "output_type": "stream",
     "text": [
      "Enter your number :345\n",
      "Sum of squares of each digits is : 50\n"
     ]
    }
   ],
   "source": [
    "n = int (input(\"Enter your number :\"))\n",
    "Sn = 0;\n",
    "while n != 0:\n",
    "    Sn = Sn+((n%10)**2);\n",
    "    n = int(n/10);\n",
    "print(\"Sum of squares of each digits is :\", Sn)\n",
    "    "
   ]
  },
  {
   "cell_type": "markdown",
   "metadata": {},
   "source": [
    "# Armstrong (sum of cubes of it's digits should be same as number)"
   ]
  },
  {
   "cell_type": "code",
   "execution_count": 17,
   "metadata": {},
   "outputs": [
    {
     "name": "stdout",
     "output_type": "stream",
     "text": [
      "Enter your number :1\n",
      "Given no. is an armstrong number\n"
     ]
    }
   ],
   "source": [
    "n = int(input(\"Enter your number :\"))\n",
    "num = n;\n",
    "a = 0;\n",
    "while n != 0:\n",
    "    a = a+(n%10)**3;\n",
    "    n = int(n/10);\n",
    "if a == num :\n",
    "    print(\"Given no. is an armstrong number\")\n",
    "else :\n",
    "    print(\"Given no. is not an armstrong n8umber\")"
   ]
  },
  {
   "cell_type": "markdown",
   "metadata": {},
   "source": [
    "# narcissistic numbers are numbers that can be represented by some kind of mathematical manipulation of their digits. A whole number, or integer, that is the sum of the nth powers of its digits (e.g., 153 = 13 + 53 + 33) is called a perfect…"
   ]
  },
  {
   "cell_type": "code",
   "execution_count": 21,
   "metadata": {},
   "outputs": [
    {
     "name": "stdout",
     "output_type": "stream",
     "text": [
      "Enter your number : 153\n",
      "Given no. is narcissistic no.\n"
     ]
    }
   ],
   "source": [
    "n = input(\"Enter your number : \")\n",
    "l = len(n);\n",
    "num = n = int(n);\n",
    "r = 0;\n",
    "while n != 0:\n",
    "    r = r + (n%10)**l;\n",
    "    n = int(n/10);\n",
    "    \n",
    "if r == num:\n",
    "    print(\"Given no. is narcissistic no.\")\n",
    "else:\n",
    "    print(\"Given no. is not a narcissistic no.\")"
   ]
  },
  {
   "cell_type": "code",
   "execution_count": null,
   "metadata": {},
   "outputs": [],
   "source": []
  }
 ],
 "metadata": {
  "kernelspec": {
   "display_name": "Python 3",
   "language": "python",
   "name": "python3"
  },
  "language_info": {
   "codemirror_mode": {
    "name": "ipython",
    "version": 3
   },
   "file_extension": ".py",
   "mimetype": "text/x-python",
   "name": "python",
   "nbconvert_exporter": "python",
   "pygments_lexer": "ipython3",
   "version": "3.8.5"
  }
 },
 "nbformat": 4,
 "nbformat_minor": 4
}
